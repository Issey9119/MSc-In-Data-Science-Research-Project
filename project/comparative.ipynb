{
 "cells": [
  {
   "cell_type": "code",
   "execution_count": null,
   "metadata": {},
   "outputs": [],
   "source": [
    "import pandas as pd\n",
    "\n",
    "# Load CSV file into DataFrame\n",
    "df_tripadvisor = pd.read_csv('final_review_data.csv') \n",
    "df_tripadvisor.head()"
   ]
  },
  {
   "cell_type": "code",
   "execution_count": null,
   "metadata": {},
   "outputs": [],
   "source": [
    "df_raw_tourism = pd.read_excel(open('data/tourism-data.xlsx', 'rb'), sheet_name='Data') \n",
    "df_raw_tourism['Month'] = pd.to_datetime(df_raw_tourism['Month'])\n",
    "df_raw_tourism['Month'] = df_raw_tourism['Month'].dt.strftime('%Y-%m')\n",
    "df_tourism = df_raw_tourism.groupby('Month').agg({\n",
    "    'Total tourist arrivals': 'sum'\n",
    "}).reset_index()\n",
    "df_tourism.head()"
   ]
  },
  {
   "cell_type": "code",
   "execution_count": null,
   "metadata": {},
   "outputs": [],
   "source": [
    "df_tripadvisor.head()"
   ]
  },
  {
   "cell_type": "code",
   "execution_count": null,
   "metadata": {},
   "outputs": [],
   "source": [
    "# Group by publishedDate by calculating average rating and combining all the text\n",
    "df_tripadvisor = df_tripadvisor.groupby('travelDate').agg({\n",
    "    'sentimentPolarity': 'mean'\n",
    "}).reset_index()\n",
    "\n",
    "# Rename columns\n",
    "df_tripadvisor = df_tripadvisor.rename(columns={'sentimentPolarity': 'average_sentimentPolarity'})"
   ]
  },
  {
   "cell_type": "code",
   "execution_count": null,
   "metadata": {},
   "outputs": [],
   "source": [
    "df_tourism_final = df_tourism.groupby('Month').agg({\n",
    "    'Total tourist arrivals': 'sum'\n",
    "}).reset_index()"
   ]
  },
  {
   "cell_type": "code",
   "execution_count": null,
   "metadata": {},
   "outputs": [],
   "source": [
    "\n",
    "df_merged = pd.merge(df_tripadvisor, df_tourism_final, left_on=\"travelDate\", right_on=\"Month\")\n",
    "\n",
    "\n",
    "df_merged.head()\n"
   ]
  },
  {
   "cell_type": "code",
   "execution_count": null,
   "metadata": {},
   "outputs": [],
   "source": [
    "import matplotlib.pyplot as plt\n",
    "import seaborn as sns\n",
    "# Analyze sentiment polarity trends\n",
    "sns.regplot(x='average_sentimentPolarity', y='Total tourist arrivals', data=df_merged, scatter_kws={'s': 100})\n",
    "plt.title('Correlation between Sentiment Polarity and Tourist Arrivals')\n",
    "plt.xlabel('Sentiment Polarity')\n",
    "plt.ylabel('Tourist Arrivals')\n",
    "plt.grid(True)\n",
    "plt.show()\n"
   ]
  },
  {
   "cell_type": "code",
   "execution_count": null,
   "metadata": {},
   "outputs": [],
   "source": [
    "\n",
    "# Correlation analysis\n",
    "correlation = df_merged['Total tourist arrivals'].corr(df_merged['average_sentimentPolarity'])\n",
    "print('Correlation between Tourist Arrivals and Sentiment Polarity:', correlation)"
   ]
  },
  {
   "cell_type": "code",
   "execution_count": null,
   "metadata": {},
   "outputs": [],
   "source": [
    "from sklearn.model_selection import train_test_split\n",
    "from sklearn.linear_model import LinearRegression\n",
    "from sklearn.metrics import mean_squared_error\n",
    "X = df_merged[['average_sentimentPolarity']]\n",
    "y = df_merged['Total tourist arrivals']\n",
    "X_train, X_test, y_train, y_test = train_test_split(X, y, test_size=0.2, random_state=42)\n",
    "\n",
    "# Train a linear regression model\n",
    "model = LinearRegression()\n",
    "model.fit(X_train, y_train)\n",
    "\n",
    "# Make predictions on the testing set\n",
    "y_pred = model.predict(X_test)\n",
    "\n",
    "# Evaluate the model\n",
    "mse = mean_squared_error(y_test, y_pred)\n",
    "print('Mean Squared Error:', mse)"
   ]
  }
 ],
 "metadata": {
  "kernelspec": {
   "display_name": "base",
   "language": "python",
   "name": "python3"
  },
  "language_info": {
   "codemirror_mode": {
    "name": "ipython",
    "version": 3
   },
   "file_extension": ".py",
   "mimetype": "text/x-python",
   "name": "python",
   "nbconvert_exporter": "python",
   "pygments_lexer": "ipython3",
   "version": "3.11.7"
  }
 },
 "nbformat": 4,
 "nbformat_minor": 2
}
